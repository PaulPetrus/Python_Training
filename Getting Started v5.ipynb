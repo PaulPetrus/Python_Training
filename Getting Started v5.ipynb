{
 "cells": [
  {
   "cell_type": "markdown",
   "metadata": {},
   "source": [
    "## 1. Getting Started with Python"
   ]
  },
  {
   "cell_type": "markdown",
   "metadata": {},
   "source": [
    "You can using Jupyter Notebook to complete simple calculation"
   ]
  },
  {
   "cell_type": "markdown",
   "metadata": {},
   "source": [
    "Add up `+`"
   ]
  },
  {
   "cell_type": "code",
   "execution_count": 2,
   "metadata": {},
   "outputs": [
    {
     "data": {
      "text/plain": [
       "29"
      ]
     },
     "execution_count": 2,
     "metadata": {},
     "output_type": "execute_result"
    }
   ],
   "source": [
    "15+14"
   ]
  },
  {
   "cell_type": "markdown",
   "metadata": {},
   "source": [
    "Divide `/`"
   ]
  },
  {
   "cell_type": "code",
   "execution_count": 3,
   "metadata": {},
   "outputs": [
    {
     "data": {
      "text/plain": [
       "2.5"
      ]
     },
     "execution_count": 3,
     "metadata": {},
     "output_type": "execute_result"
    }
   ],
   "source": [
    "5/2"
   ]
  },
  {
   "cell_type": "markdown",
   "metadata": {},
   "source": [
    "Power `**`"
   ]
  },
  {
   "cell_type": "code",
   "execution_count": 4,
   "metadata": {},
   "outputs": [
    {
     "data": {
      "text/plain": [
       "4"
      ]
     },
     "execution_count": 4,
     "metadata": {},
     "output_type": "execute_result"
    }
   ],
   "source": [
    "2**2"
   ]
  },
  {
   "cell_type": "markdown",
   "metadata": {},
   "source": [
    "Minus `-`"
   ]
  },
  {
   "cell_type": "code",
   "execution_count": 5,
   "metadata": {},
   "outputs": [
    {
     "data": {
      "text/plain": [
       "3"
      ]
     },
     "execution_count": 5,
     "metadata": {},
     "output_type": "execute_result"
    }
   ],
   "source": [
    "10-7"
   ]
  },
  {
   "cell_type": "markdown",
   "metadata": {},
   "source": [
    "Modulo - `5%2` will give 1, because you can fit 2 times 2 within 5 and you are left with 1"
   ]
  },
  {
   "cell_type": "code",
   "execution_count": 6,
   "metadata": {},
   "outputs": [
    {
     "data": {
      "text/plain": [
       "1"
      ]
     },
     "execution_count": 6,
     "metadata": {},
     "output_type": "execute_result"
    }
   ],
   "source": [
    "5%2"
   ]
  },
  {
   "cell_type": "markdown",
   "metadata": {},
   "source": [
    "Assign value to a variable `x`"
   ]
  },
  {
   "cell_type": "code",
   "execution_count": 7,
   "metadata": {},
   "outputs": [],
   "source": [
    "x = 10"
   ]
  },
  {
   "cell_type": "markdown",
   "metadata": {},
   "source": [
    "Now the Jupyter Notebook knows that x = 10. "
   ]
  },
  {
   "cell_type": "code",
   "execution_count": 8,
   "metadata": {},
   "outputs": [
    {
     "data": {
      "text/plain": [
       "10"
      ]
     },
     "execution_count": 8,
     "metadata": {},
     "output_type": "execute_result"
    }
   ],
   "source": [
    "x"
   ]
  },
  {
   "cell_type": "markdown",
   "metadata": {},
   "source": [
    "You can change x value."
   ]
  },
  {
   "cell_type": "code",
   "execution_count": 9,
   "metadata": {},
   "outputs": [],
   "source": [
    "x = 7"
   ]
  },
  {
   "cell_type": "code",
   "execution_count": 10,
   "metadata": {},
   "outputs": [
    {
     "data": {
      "text/plain": [
       "7"
      ]
     },
     "execution_count": 10,
     "metadata": {},
     "output_type": "execute_result"
    }
   ],
   "source": [
    "x"
   ]
  },
  {
   "cell_type": "markdown",
   "metadata": {},
   "source": [
    "Using creating variables in past in a different function"
   ]
  },
  {
   "cell_type": "code",
   "execution_count": 11,
   "metadata": {},
   "outputs": [],
   "source": [
    "y = x + 5"
   ]
  },
  {
   "cell_type": "code",
   "execution_count": 12,
   "metadata": {},
   "outputs": [
    {
     "data": {
      "text/plain": [
       "12"
      ]
     },
     "execution_count": 12,
     "metadata": {},
     "output_type": "execute_result"
    }
   ],
   "source": [
    "y"
   ]
  },
  {
   "cell_type": "markdown",
   "metadata": {},
   "source": [
    "Add value to the variable `x` and reassign `x` value to be a new number , `x = x + 2`. Often used in loops counting how many times we should have a loop."
   ]
  },
  {
   "cell_type": "code",
   "execution_count": 13,
   "metadata": {},
   "outputs": [],
   "source": [
    "x += 2"
   ]
  },
  {
   "cell_type": "code",
   "execution_count": 14,
   "metadata": {},
   "outputs": [
    {
     "data": {
      "text/plain": [
       "9"
      ]
     },
     "execution_count": 14,
     "metadata": {},
     "output_type": "execute_result"
    }
   ],
   "source": [
    "x"
   ]
  },
  {
   "cell_type": "markdown",
   "metadata": {},
   "source": [
    "Most of Python training start with simple programme like below. Print function is a built in Python fuction that allows to print results. Below we just printing text."
   ]
  },
  {
   "cell_type": "code",
   "execution_count": 15,
   "metadata": {},
   "outputs": [
    {
     "name": "stdout",
     "output_type": "stream",
     "text": [
      "Good Start!\n"
     ]
    }
   ],
   "source": [
    "print('Good Start!')"
   ]
  },
  {
   "cell_type": "markdown",
   "metadata": {},
   "source": [
    "You can use comment within the you code so you later remember what was that you where doing. If you use `#` python will ingnore when you execute the code."
   ]
  },
  {
   "cell_type": "code",
   "execution_count": 16,
   "metadata": {},
   "outputs": [
    {
     "name": "stdout",
     "output_type": "stream",
     "text": [
      "Good Start!\n"
     ]
    }
   ],
   "source": [
    "print('Good Start!') #Do not forget to have fun"
   ]
  },
  {
   "cell_type": "markdown",
   "metadata": {},
   "source": [
    "Below we have created a third variable `z` using previoulsy set `x` and `y` variables. Then we have embeded variables two ways  within text in `print()` function using `format()`. You can see how this allows us to explain results better to some, who use the programme. "
   ]
  },
  {
   "cell_type": "code",
   "execution_count": 17,
   "metadata": {},
   "outputs": [
    {
     "name": "stdout",
     "output_type": "stream",
     "text": [
      "Good Start! Your number 9 - 12 = -3\n"
     ]
    }
   ],
   "source": [
    "z = x - y\n",
    "print('Good Start! Your number {} - {} = {}'.format(x, y, z))"
   ]
  },
  {
   "cell_type": "markdown",
   "metadata": {},
   "source": [
    "Instead of `format()` you can use short version `f`"
   ]
  },
  {
   "cell_type": "code",
   "execution_count": 18,
   "metadata": {},
   "outputs": [
    {
     "name": "stdout",
     "output_type": "stream",
     "text": [
      "Good Start! Your number 9 - 12 = -3\n"
     ]
    }
   ],
   "source": [
    "print(f'Good Start! Your number {x} - {y} = {z}')"
   ]
  },
  {
   "cell_type": "markdown",
   "metadata": {},
   "source": [
    "Some other useful integrated functions are `len()`, which calculates number of characters in example below. "
   ]
  },
  {
   "cell_type": "code",
   "execution_count": 19,
   "metadata": {},
   "outputs": [
    {
     "data": {
      "text/plain": [
       "11"
      ]
     },
     "execution_count": 19,
     "metadata": {},
     "output_type": "execute_result"
    }
   ],
   "source": [
    "len('Good Start1')"
   ]
  },
  {
   "cell_type": "markdown",
   "metadata": {},
   "source": [
    "However, more generically it calculates items within an object. We will come to it eventually, but below is a `list` of items and len calculates number of items within our list."
   ]
  },
  {
   "cell_type": "code",
   "execution_count": 20,
   "metadata": {},
   "outputs": [],
   "source": [
    "list = ['one', 'two', 'three']"
   ]
  },
  {
   "cell_type": "code",
   "execution_count": 21,
   "metadata": {},
   "outputs": [
    {
     "data": {
      "text/plain": [
       "3"
      ]
     },
     "execution_count": 21,
     "metadata": {},
     "output_type": "execute_result"
    }
   ],
   "source": [
    "len(list)"
   ]
  },
  {
   "cell_type": "markdown",
   "metadata": {},
   "source": [
    "## 2. Python Modules \n",
    "Also known as packages or libraries. Python language is relatively easy to learn. Large extent is due to these modules, which are presetup programmes that allow you to do variuos things. For example, drawing graphs, calculating, bringing in Excel files. There is masive community of programmers that contribute to these packages. Overall python has decentralised contributions."
   ]
  },
  {
   "cell_type": "code",
   "execution_count": 22,
   "metadata": {},
   "outputs": [],
   "source": [
    "import numpy as np"
   ]
  },
  {
   "cell_type": "code",
   "execution_count": 23,
   "metadata": {},
   "outputs": [
    {
     "data": {
      "text/plain": [
       "2.0"
      ]
     },
     "execution_count": 23,
     "metadata": {},
     "output_type": "execute_result"
    }
   ],
   "source": [
    "np.sqrt(4)"
   ]
  },
  {
   "cell_type": "code",
   "execution_count": 24,
   "metadata": {},
   "outputs": [],
   "source": [
    "x = np.sqrt(4)\n",
    "y = 14"
   ]
  },
  {
   "cell_type": "code",
   "execution_count": 25,
   "metadata": {},
   "outputs": [
    {
     "data": {
      "text/plain": [
       "16"
      ]
     },
     "execution_count": 25,
     "metadata": {},
     "output_type": "execute_result"
    }
   ],
   "source": [
    "np.add(2, 14)"
   ]
  },
  {
   "cell_type": "code",
   "execution_count": 26,
   "metadata": {},
   "outputs": [
    {
     "data": {
      "text/plain": [
       "16.0"
      ]
     },
     "execution_count": 26,
     "metadata": {},
     "output_type": "execute_result"
    }
   ],
   "source": [
    "np.add(x, y)"
   ]
  },
  {
   "cell_type": "markdown",
   "metadata": {},
   "source": [
    "We will use a number of different Python libraries thoughout, including Pandas (data processing), Matplotlib (plotting), Seaborn or Plotly (to make plots elegant), NumPy (scientific computing)."
   ]
  },
  {
   "cell_type": "markdown",
   "metadata": {},
   "source": [
    "## 3. Data Types"
   ]
  },
  {
   "cell_type": "markdown",
   "metadata": {},
   "source": [
    "### 3.1 Boolean variables\n",
    "`Boolean` means having one of only two values. Thus, variables `True` or `Flase` would be Boolean. Below is simple example comparing `50` with `0`. As `50` is more than `0` funciton returns `False`. The way we check data type is with integrated `type()` funciton"
   ]
  },
  {
   "cell_type": "code",
   "execution_count": 27,
   "metadata": {},
   "outputs": [
    {
     "data": {
      "text/plain": [
       "False"
      ]
     },
     "execution_count": 27,
     "metadata": {},
     "output_type": "execute_result"
    }
   ],
   "source": [
    "x = 50\n",
    "y = x < 0\n",
    "y"
   ]
  },
  {
   "cell_type": "code",
   "execution_count": 28,
   "metadata": {},
   "outputs": [
    {
     "data": {
      "text/plain": [
       "bool"
      ]
     },
     "execution_count": 28,
     "metadata": {},
     "output_type": "execute_result"
    }
   ],
   "source": [
    "x = 50\n",
    "y = x < 0\n",
    "type(y)"
   ]
  },
  {
   "cell_type": "markdown",
   "metadata": {},
   "source": [
    "A bit confusing element in python is `=` sign, which allows you to asign value. However, if you use double `==` sign, which compares the values of both the operands and checks for value equality. Prviously, we have asing `x = 50`. Thus, as `x` is not `99`, the result is `False`."
   ]
  },
  {
   "cell_type": "code",
   "execution_count": 29,
   "metadata": {},
   "outputs": [
    {
     "name": "stdout",
     "output_type": "stream",
     "text": [
      "False\n"
     ]
    }
   ],
   "source": [
    "a = x == 99\n",
    "print(a)"
   ]
  },
  {
   "cell_type": "markdown",
   "metadata": {},
   "source": [
    "Opposite to `==` is `!=`, which checks that two values are not equal. As 50 is not equal to 99 python gives us `True` value."
   ]
  },
  {
   "cell_type": "code",
   "execution_count": 30,
   "metadata": {},
   "outputs": [
    {
     "name": "stdout",
     "output_type": "stream",
     "text": [
      "True\n"
     ]
    }
   ],
   "source": [
    "a = x != 99\n",
    "print(a)"
   ]
  },
  {
   "cell_type": "markdown",
   "metadata": {},
   "source": [
    "`>=` and `<=` respectively represent more and equal and less and equal. Let's see examples below."
   ]
  },
  {
   "cell_type": "code",
   "execution_count": 31,
   "metadata": {},
   "outputs": [
    {
     "name": "stdout",
     "output_type": "stream",
     "text": [
      "False\n"
     ]
    }
   ],
   "source": [
    "a = x >= 99\n",
    "print(a)"
   ]
  },
  {
   "cell_type": "code",
   "execution_count": 32,
   "metadata": {},
   "outputs": [
    {
     "name": "stdout",
     "output_type": "stream",
     "text": [
      "True\n"
     ]
    }
   ],
   "source": [
    "a = x <= 99\n",
    "print(a)"
   ]
  },
  {
   "cell_type": "code",
   "execution_count": 33,
   "metadata": {},
   "outputs": [
    {
     "name": "stdout",
     "output_type": "stream",
     "text": [
      "True\n"
     ]
    }
   ],
   "source": [
    "a = x <= 50\n",
    "print(a)"
   ]
  },
  {
   "cell_type": "markdown",
   "metadata": {},
   "source": [
    "One often used example is to look check if number is devisable from a different number. You can use `%` for that. In example below, you can fit `25 x 2` into `50`. "
   ]
  },
  {
   "cell_type": "code",
   "execution_count": 34,
   "metadata": {},
   "outputs": [
    {
     "name": "stdout",
     "output_type": "stream",
     "text": [
      "True\n"
     ]
    }
   ],
   "source": [
    "a = 50 % 2 == 0\n",
    "print(a)"
   ]
  },
  {
   "cell_type": "markdown",
   "metadata": {},
   "source": [
    "In the next example. You can fit `16 x 3` and you are left with `2`, which is not equal to `0`."
   ]
  },
  {
   "cell_type": "code",
   "execution_count": 35,
   "metadata": {},
   "outputs": [
    {
     "name": "stdout",
     "output_type": "stream",
     "text": [
      "False\n"
     ]
    }
   ],
   "source": [
    "a = 50 % 3 == 0\n",
    "print(a)"
   ]
  },
  {
   "cell_type": "markdown",
   "metadata": {},
   "source": [
    "Final example, where python automatically convert `False` or `Ture` to a `0` or `1` to compute and give and answer in a funciton."
   ]
  },
  {
   "cell_type": "code",
   "execution_count": 36,
   "metadata": {},
   "outputs": [
    {
     "name": "stdout",
     "output_type": "stream",
     "text": [
      "2\n"
     ]
    }
   ],
   "source": [
    "a = x <= 50\n",
    "value = 2*a\n",
    "print(value)"
   ]
  },
  {
   "cell_type": "markdown",
   "metadata": {},
   "source": [
    "### 3.2 Numbers\n",
    "<br> There are two type of number types in python integers `int` and floating point real values `float`. As before, you can check type using integrated fuction `type()`"
   ]
  },
  {
   "cell_type": "code",
   "execution_count": 37,
   "metadata": {},
   "outputs": [
    {
     "data": {
      "text/plain": [
       "int"
      ]
     },
     "execution_count": 37,
     "metadata": {},
     "output_type": "execute_result"
    }
   ],
   "source": [
    "x = 100\n",
    "type(x)"
   ]
  },
  {
   "cell_type": "code",
   "execution_count": 38,
   "metadata": {},
   "outputs": [],
   "source": [
    "y = 1.25"
   ]
  },
  {
   "cell_type": "code",
   "execution_count": 39,
   "metadata": {},
   "outputs": [
    {
     "data": {
      "text/plain": [
       "float"
      ]
     },
     "execution_count": 39,
     "metadata": {},
     "output_type": "execute_result"
    }
   ],
   "source": [
    "type(y)"
   ]
  },
  {
   "cell_type": "markdown",
   "metadata": {},
   "source": [
    "In some logical calculations or programmes you may want to specify type or covert type. For example below, we have a logic statement that tests `y < 0`. If we do not specify `int` it will return `False`. If we specify it will return `0`. <br> `False` = `0` & `True` = `1`"
   ]
  },
  {
   "cell_type": "code",
   "execution_count": 40,
   "metadata": {},
   "outputs": [
    {
     "name": "stdout",
     "output_type": "stream",
     "text": [
      "False\n"
     ]
    }
   ],
   "source": [
    "x = 50\n",
    "y = x < 0\n",
    "z = y\n",
    "print(z)"
   ]
  },
  {
   "cell_type": "code",
   "execution_count": 41,
   "metadata": {},
   "outputs": [
    {
     "name": "stdout",
     "output_type": "stream",
     "text": [
      "0\n"
     ]
    }
   ],
   "source": [
    "y = x < 0\n",
    "z = int(y)\n",
    "print(z)"
   ]
  },
  {
   "cell_type": "markdown",
   "metadata": {},
   "source": [
    "### 3.3 Strings\n",
    "Strings are simply text. String literals in python are surrounded by either single quotation marks, or double quotation marks.\n",
    "`'hello'` is the same as `\"hello\"`. You can display a string literal with the `print()`."
   ]
  },
  {
   "cell_type": "code",
   "execution_count": 42,
   "metadata": {},
   "outputs": [],
   "source": [
    "text = 'Glad you are still going. Let me know if you are enjoying!'"
   ]
  },
  {
   "cell_type": "code",
   "execution_count": 43,
   "metadata": {},
   "outputs": [
    {
     "data": {
      "text/plain": [
       "str"
      ]
     },
     "execution_count": 43,
     "metadata": {},
     "output_type": "execute_result"
    }
   ],
   "source": [
    "type(text)"
   ]
  },
  {
   "cell_type": "code",
   "execution_count": 44,
   "metadata": {},
   "outputs": [
    {
     "name": "stdout",
     "output_type": "stream",
     "text": [
      "Glad you are still going. Let me know if you are enjoying!\n"
     ]
    }
   ],
   "source": [
    "print(text)"
   ]
  },
  {
   "cell_type": "markdown",
   "metadata": {},
   "source": [
    "Python has soficticated fucitons to work with text. We will see some of that in the future"
   ]
  },
  {
   "cell_type": "markdown",
   "metadata": {},
   "source": [
    "## 4. Data Structures\n",
    "\n",
    "There are quite a few data structures available in python. In general, we have data structures to store and organise data for efficient retrieval and modification in computer science. So, The builtins data structures are lists, tuples, dictionaries, strings, sets, arrays and frozensets.\n",
    "\n",
    "Lists, strings and tuples are ordered sequences of objects. Unlike strings that contain only characters, list and tuples can contain any type of objects. Lists and tuples are like arrays. An array is a special variable, which can hold more than one value at a time. Tuples like strings are immutables. Lists are mutable so they can be extended or reduced at will. Sets are a mutable unordered sequence of unique elements whereas frozensets are immutable sets.\n",
    "\n",
    "I bet your head is spinning by this time. But do not worry we will go through various examples and all will become much easier. We will use coffee shop exmaple to make it more sense."
   ]
  },
  {
   "cell_type": "markdown",
   "metadata": {},
   "source": [
    "### 4.1 Lists\n",
    "\n",
    "**List** is a collection which is ordered and changeable. Allows duplicate members. In Python lists are written with square brackets `[ ]` or can be created with funciton `list()`.\n",
    "<br><br>\n",
    "You could have a single variable type or mixture as per examples below. Lets create few Python list below and one of them will be our coffee shop desserts menu."
   ]
  },
  {
   "cell_type": "code",
   "execution_count": 45,
   "metadata": {},
   "outputs": [],
   "source": [
    "a = [] # empty list\n",
    "nr = [1,2,3,4,5]\n",
    "desserts = ['danish','cake','doughnut','brownie','muffin','macaroon','pie']\n",
    "c = [1,2,'pie']"
   ]
  },
  {
   "cell_type": "markdown",
   "metadata": {},
   "source": [
    "Interestengly we can also have a Python List of lists, which is called nested list "
   ]
  },
  {
   "cell_type": "code",
   "execution_count": 46,
   "metadata": {},
   "outputs": [
    {
     "data": {
      "text/plain": [
       "[[1, 2, 3, 4, 5],\n",
       " ['danish', 'cake', 'doughnut', 'brownie', 'muffin', 'macaroon', 'pie'],\n",
       " [1, 2, 'pie']]"
      ]
     },
     "execution_count": 46,
     "metadata": {},
     "output_type": "execute_result"
    }
   ],
   "source": [
    "d = [nr,desserts, c]\n",
    "d"
   ]
  },
  {
   "cell_type": "markdown",
   "metadata": {},
   "source": [
    "There are several methods we can apply to `lists` and are used quite often. The first one we are going to have a look is `append`. The above Python list for deserts already contains several customer favourites, but we want to introduce a new one at the end of the list. How can we do that?"
   ]
  },
  {
   "cell_type": "code",
   "execution_count": 47,
   "metadata": {},
   "outputs": [
    {
     "name": "stdout",
     "output_type": "stream",
     "text": [
      "['danish', 'cake', 'doughnut', 'brownie', 'muffin', 'macaroon', 'pie', 'cheesecake']\n"
     ]
    }
   ],
   "source": [
    "desserts.append('cheesecake')\n",
    "print(desserts)"
   ]
  },
  {
   "cell_type": "markdown",
   "metadata": {},
   "source": [
    "As we seen before we can use funtion `len()` to count how many desserts we have in the Menu/Python List."
   ]
  },
  {
   "cell_type": "code",
   "execution_count": 48,
   "metadata": {},
   "outputs": [
    {
     "data": {
      "text/plain": [
       "8"
      ]
     },
     "execution_count": 48,
     "metadata": {},
     "output_type": "execute_result"
    }
   ],
   "source": [
    "len('desserts')"
   ]
  },
  {
   "cell_type": "markdown",
   "metadata": {},
   "source": [
    "### How to access elements from a Python List?\n",
    "<br>\n",
    "There are few ways you can do this. Let's look into Coffee Shop example."
   ]
  },
  {
   "cell_type": "markdown",
   "metadata": {},
   "source": [
    "#### List Index\n",
    "Say you have a customer ordering a specific dessert and you need to tell your coffee shop computer, which one it is, so you can give the price. You can do that by using numerical index. Say the cutomer goes for danish.\n",
    "<br>\n",
    "**Note:** that numerical index starts from 0 in python. Please, refer to example picture when going through the code"
   ]
  },
  {
   "attachments": {
    "image.png": {
     "image/png": "[encoded data removed]"
    }
   },
   "cell_type": "markdown",
   "metadata": {},
   "source": [
    "![image.png](attachment:image.png)"
   ]
  },
  {
   "cell_type": "code",
   "execution_count": 49,
   "metadata": {},
   "outputs": [
    {
     "data": {
      "text/plain": [
       "'danish'"
      ]
     },
     "execution_count": 49,
     "metadata": {},
     "output_type": "execute_result"
    }
   ],
   "source": [
    "desserts[0]"
   ]
  },
  {
   "cell_type": "markdown",
   "metadata": {},
   "source": [
    "Or maybe he/she wants coffee shop classic muffin"
   ]
  },
  {
   "cell_type": "code",
   "execution_count": 50,
   "metadata": {},
   "outputs": [
    {
     "data": {
      "text/plain": [
       "'muffin'"
      ]
     },
     "execution_count": 50,
     "metadata": {},
     "output_type": "execute_result"
    }
   ],
   "source": [
    "desserts[4]"
   ]
  },
  {
   "cell_type": "markdown",
   "metadata": {},
   "source": [
    "You can also use `-` (negative) index to count from the end"
   ]
  },
  {
   "cell_type": "code",
   "execution_count": 51,
   "metadata": {},
   "outputs": [
    {
     "data": {
      "text/plain": [
       "'cheesecake'"
      ]
     },
     "execution_count": 51,
     "metadata": {},
     "output_type": "execute_result"
    }
   ],
   "source": [
    "desserts[-1]"
   ]
  },
  {
   "cell_type": "markdown",
   "metadata": {},
   "source": [
    "Maybe the customer feels particularly peckish and he/she want multiple desserts. You can slice a list. Say they are after all desserts up to and including **doughnut**"
   ]
  },
  {
   "cell_type": "code",
   "execution_count": 52,
   "metadata": {},
   "outputs": [
    {
     "data": {
      "text/plain": [
       "['danish', 'cake', 'doughnut']"
      ]
     },
     "execution_count": 52,
     "metadata": {},
     "output_type": "execute_result"
    }
   ],
   "source": [
    "desserts[:3]"
   ]
  },
  {
   "cell_type": "markdown",
   "metadata": {},
   "source": [
    "But the customer changes his/her their mind and only goes for **cake** and **doughnut**."
   ]
  },
  {
   "cell_type": "code",
   "execution_count": 53,
   "metadata": {},
   "outputs": [
    {
     "data": {
      "text/plain": [
       "['cake', 'doughnut']"
      ]
     },
     "execution_count": 53,
     "metadata": {},
     "output_type": "execute_result"
    }
   ],
   "source": [
    "desserts[1:3]"
   ]
  },
  {
   "cell_type": "markdown",
   "metadata": {},
   "source": [
    "Today she/he got some friends and going for **brownie**, **muffin**, **macaroon** and **pie**. Python list we can do as follows"
   ]
  },
  {
   "cell_type": "code",
   "execution_count": 54,
   "metadata": {},
   "outputs": [
    {
     "data": {
      "text/plain": [
       "['brownie', 'muffin', 'macaroon', 'pie']"
      ]
     },
     "execution_count": 54,
     "metadata": {},
     "output_type": "execute_result"
    }
   ],
   "source": [
    "desserts[3:7]"
   ]
  },
  {
   "cell_type": "markdown",
   "metadata": {},
   "source": [
    "Ok but we have changed our mind and we are going for **pie** and **cheesecake**"
   ]
  },
  {
   "cell_type": "code",
   "execution_count": 55,
   "metadata": {},
   "outputs": [
    {
     "data": {
      "text/plain": [
       "['pie', 'cheesecake']"
      ]
     },
     "execution_count": 55,
     "metadata": {},
     "output_type": "execute_result"
    }
   ],
   "source": [
    "desserts[6:]"
   ]
  },
  {
   "cell_type": "markdown",
   "metadata": {},
   "source": [
    "Or this could work as well. Where we are counting two from the end of Python List"
   ]
  },
  {
   "cell_type": "code",
   "execution_count": 56,
   "metadata": {},
   "outputs": [
    {
     "data": {
      "text/plain": [
       "['pie', 'cheesecake']"
      ]
     },
     "execution_count": 56,
     "metadata": {},
     "output_type": "execute_result"
    }
   ],
   "source": [
    "desserts[-2:]"
   ]
  },
  {
   "cell_type": "markdown",
   "metadata": {},
   "source": [
    "Say sometimes you may have two Python `list` you need to combine. In our exmaple we will create a meal `list` and combine with desserts list for the coffee shop."
   ]
  },
  {
   "cell_type": "code",
   "execution_count": 57,
   "metadata": {},
   "outputs": [],
   "source": [
    "food = ['soup', 'sandwich', 'flatbread', 'granola', 'eggs', 'avocado on toast']"
   ]
  },
  {
   "cell_type": "markdown",
   "metadata": {},
   "source": [
    "Now we can use `+` to combine two list in total food offering for the shop"
   ]
  },
  {
   "cell_type": "code",
   "execution_count": 58,
   "metadata": {},
   "outputs": [
    {
     "name": "stdout",
     "output_type": "stream",
     "text": [
      "['danish', 'cake', 'doughnut', 'brownie', 'muffin', 'macaroon', 'pie', 'cheesecake', 'soup', 'sandwich', 'flatbread', 'granola', 'eggs', 'avocado on toast']\n"
     ]
    }
   ],
   "source": [
    "menu = desserts + food\n",
    "print(menu)"
   ]
  },
  {
   "cell_type": "markdown",
   "metadata": {},
   "source": [
    "Now you want to check if you have a particular food time in the menu. So we need to check our Python List using `in` expression."
   ]
  },
  {
   "cell_type": "code",
   "execution_count": 59,
   "metadata": {},
   "outputs": [
    {
     "data": {
      "text/plain": [
       "True"
      ]
     },
     "execution_count": 59,
     "metadata": {},
     "output_type": "execute_result"
    }
   ],
   "source": [
    "'soup' in menu"
   ]
  },
  {
   "cell_type": "code",
   "execution_count": 60,
   "metadata": {},
   "outputs": [
    {
     "data": {
      "text/plain": [
       "False"
      ]
     },
     "execution_count": 60,
     "metadata": {},
     "output_type": "execute_result"
    }
   ],
   "source": [
    "'fries' in menu"
   ]
  },
  {
   "cell_type": "markdown",
   "metadata": {},
   "source": [
    "Let's say it is difficult to find items in our list and you need to sort it. There are two ways you can do it. One way you can do that is temporarily sorted and present the list with `sorted()`."
   ]
  },
  {
   "cell_type": "code",
   "execution_count": 61,
   "metadata": {},
   "outputs": [
    {
     "name": "stdout",
     "output_type": "stream",
     "text": [
      "['avocado on toast', 'brownie', 'cake', 'cheesecake', 'danish', 'doughnut', 'eggs', 'flatbread', 'granola', 'macaroon', 'muffin', 'pie', 'sandwich', 'soup']\n"
     ]
    }
   ],
   "source": [
    "print(sorted(menu))"
   ]
  },
  {
   "cell_type": "markdown",
   "metadata": {},
   "source": [
    "Or change python list and permanently sort it using `sort()`."
   ]
  },
  {
   "cell_type": "code",
   "execution_count": 62,
   "metadata": {},
   "outputs": [
    {
     "name": "stdout",
     "output_type": "stream",
     "text": [
      "['danish', 'cake', 'doughnut', 'brownie', 'muffin', 'macaroon', 'pie', 'cheesecake', 'soup', 'sandwich', 'flatbread', 'granola', 'eggs', 'avocado on toast']\n",
      "['avocado on toast', 'brownie', 'cake', 'cheesecake', 'danish', 'doughnut', 'eggs', 'flatbread', 'granola', 'macaroon', 'muffin', 'pie', 'sandwich', 'soup']\n"
     ]
    }
   ],
   "source": [
    "print(menu)\n",
    "menu.sort()\n",
    "print(menu)"
   ]
  },
  {
   "cell_type": "markdown",
   "metadata": {},
   "source": [
    "Finally, lets see if we decide to keep desserts and food as two lists in nested Python List."
   ]
  },
  {
   "cell_type": "code",
   "execution_count": 63,
   "metadata": {},
   "outputs": [
    {
     "name": "stdout",
     "output_type": "stream",
     "text": [
      "[['danish', 'cake', 'doughnut', 'brownie', 'muffin', 'macaroon', 'pie', 'cheesecake'], ['soup', 'sandwich', 'flatbread', 'granola', 'eggs', 'avocado on toast']]\n"
     ]
    }
   ],
   "source": [
    "nest_menu = [desserts, food]\n",
    "print(nest_menu)"
   ]
  },
  {
   "cell_type": "markdown",
   "metadata": {},
   "source": [
    "Now, Customer comes and says that he/she wants danish and soup."
   ]
  },
  {
   "cell_type": "code",
   "execution_count": 64,
   "metadata": {},
   "outputs": [
    {
     "data": {
      "text/plain": [
       "'danish'"
      ]
     },
     "execution_count": 64,
     "metadata": {},
     "output_type": "execute_result"
    }
   ],
   "source": [
    "nest_menu[0][0] #First index represent list and second index represent position in the list"
   ]
  },
  {
   "cell_type": "code",
   "execution_count": 65,
   "metadata": {},
   "outputs": [
    {
     "data": {
      "text/plain": [
       "'soup'"
      ]
     },
     "execution_count": 65,
     "metadata": {},
     "output_type": "execute_result"
    }
   ],
   "source": [
    "nest_menu[1][0]"
   ]
  },
  {
   "cell_type": "markdown",
   "metadata": {},
   "source": [
    "### Other ways to change or add elements to a list?"
   ]
  },
  {
   "cell_type": "code",
   "execution_count": 66,
   "metadata": {},
   "outputs": [
    {
     "name": "stdout",
     "output_type": "stream",
     "text": [
      "['danish', 'cake', 'doughnut', 'brownie', 'muffin', 'macaroon', 'pie', 'cheesecake']\n"
     ]
    }
   ],
   "source": [
    "print(desserts)"
   ]
  },
  {
   "cell_type": "markdown",
   "metadata": {},
   "source": [
    "Add several items at the end of the list not just one. Use `extend()` and use `[]` to specify new list to add."
   ]
  },
  {
   "cell_type": "code",
   "execution_count": 67,
   "metadata": {},
   "outputs": [
    {
     "name": "stdout",
     "output_type": "stream",
     "text": [
      "['danish', 'cake', 'doughnut', 'brownie', 'muffin', 'macaroon', 'pie', 'cheesecake', 'biscotti', 'french toast', 'gingerbread']\n"
     ]
    }
   ],
   "source": [
    "desserts.extend(['biscotti', 'french toast', 'gingerbread'])\n",
    "print(desserts)"
   ]
  },
  {
   "cell_type": "markdown",
   "metadata": {},
   "source": [
    "You can also insert dessert in the middle of the list by using `insert()`"
   ]
  },
  {
   "cell_type": "code",
   "execution_count": 68,
   "metadata": {},
   "outputs": [
    {
     "name": "stdout",
     "output_type": "stream",
     "text": [
      "['danish', 'cake', 'gelato', 'doughnut', 'brownie', 'muffin', 'macaroon', 'pie', 'cheesecake', 'biscotti', 'french toast', 'gingerbread']\n"
     ]
    }
   ],
   "source": [
    "desserts.insert(2,'gelato') # here 2 represent list position\n",
    "print(desserts)"
   ]
  },
  {
   "cell_type": "markdown",
   "metadata": {},
   "source": [
    "Or you can specify position with index and replace one dessert. Doughnut was replaces with Pecan Pie"
   ]
  },
  {
   "cell_type": "code",
   "execution_count": 69,
   "metadata": {},
   "outputs": [
    {
     "name": "stdout",
     "output_type": "stream",
     "text": [
      "['danish', 'cake', 'gelato', 'pecan pie', 'brownie', 'muffin', 'macaroon', 'pie', 'cheesecake', 'biscotti', 'french toast', 'gingerbread']\n"
     ]
    }
   ],
   "source": [
    "desserts[3] = 'pecan pie'\n",
    "print(desserts)"
   ]
  },
  {
   "cell_type": "markdown",
   "metadata": {},
   "source": [
    "#### How to delete or remove elements from a Python List?\n",
    "First of all, let's assume that current desserts list is what we normally have in Coffee Shop. But we run out of French Toast. How do you remove it and present a new list for the day? You would need to use `del`, `pop()` or `remove()`.\n",
    "<br><br>\n",
    "We will create a copy of our dessert list using `copy()` and try to remove some items to see the difference before and after."
   ]
  },
  {
   "cell_type": "code",
   "execution_count": 70,
   "metadata": {},
   "outputs": [],
   "source": [
    "desserts_new = desserts.copy()"
   ]
  },
  {
   "cell_type": "code",
   "execution_count": 71,
   "metadata": {},
   "outputs": [
    {
     "data": {
      "text/plain": [
       "12"
      ]
     },
     "execution_count": 71,
     "metadata": {},
     "output_type": "execute_result"
    }
   ],
   "source": [
    "len(desserts_new)"
   ]
  },
  {
   "cell_type": "markdown",
   "metadata": {},
   "source": [
    "First, lets look into `del`."
   ]
  },
  {
   "cell_type": "code",
   "execution_count": 72,
   "metadata": {},
   "outputs": [
    {
     "name": "stdout",
     "output_type": "stream",
     "text": [
      "Deleting position 3\n",
      "['danish', 'cake', 'gelato', 'brownie', 'muffin', 'macaroon', 'pie', 'cheesecake', 'biscotti', 'french toast', 'gingerbread']\n",
      "['danish', 'cake', 'gelato', 'pecan pie', 'brownie', 'muffin', 'macaroon', 'pie', 'cheesecake', 'biscotti', 'french toast', 'gingerbread']\n"
     ]
    }
   ],
   "source": [
    "print('Deleting position 3')\n",
    "del desserts_new[3]\n",
    "print(desserts_new)\n",
    "print(desserts)"
   ]
  },
  {
   "cell_type": "code",
   "execution_count": 73,
   "metadata": {},
   "outputs": [
    {
     "name": "stdout",
     "output_type": "stream",
     "text": [
      "Deleting positions 2, 3 and 4\n",
      "['danish', 'cake', 'muffin', 'macaroon', 'pie', 'cheesecake', 'biscotti', 'french toast', 'gingerbread']\n",
      "['danish', 'cake', 'gelato', 'pecan pie', 'brownie', 'muffin', 'macaroon', 'pie', 'cheesecake', 'biscotti', 'french toast', 'gingerbread']\n"
     ]
    }
   ],
   "source": [
    "desserts_new = desserts.copy()\n",
    "print('Deleting positions 2, 3 and 4')\n",
    "del desserts_new[2:5]\n",
    "print(desserts_new)\n",
    "print(desserts)"
   ]
  },
  {
   "cell_type": "markdown",
   "metadata": {},
   "source": [
    "Second let's use `remove()` method. Which can come handy if you have specific Python list item you want to remove. So in our example, we do not have **cake** anymore in our coffee shop. So we will remove it."
   ]
  },
  {
   "cell_type": "code",
   "execution_count": 74,
   "metadata": {},
   "outputs": [
    {
     "name": "stdout",
     "output_type": "stream",
     "text": [
      "Removing cake from Python list\n",
      "['danish', 'gelato', 'pecan pie', 'brownie', 'muffin', 'macaroon', 'pie', 'cheesecake', 'biscotti', 'french toast', 'gingerbread']\n",
      "['danish', 'cake', 'gelato', 'pecan pie', 'brownie', 'muffin', 'macaroon', 'pie', 'cheesecake', 'biscotti', 'french toast', 'gingerbread']\n"
     ]
    }
   ],
   "source": [
    "desserts_new = desserts.copy()\n",
    "print ('Removing cake from Python list')\n",
    "desserts_new.remove('cake')\n",
    "print(desserts_new)\n",
    "print(desserts)"
   ]
  },
  {
   "cell_type": "markdown",
   "metadata": {},
   "source": [
    "Third, we can use `pop()` to remove item at a given index"
   ]
  },
  {
   "cell_type": "code",
   "execution_count": 75,
   "metadata": {},
   "outputs": [
    {
     "name": "stdout",
     "output_type": "stream",
     "text": [
      "Removing cake again from Python list\n",
      "['danish', 'gelato', 'pecan pie', 'brownie', 'muffin', 'macaroon', 'pie', 'cheesecake', 'biscotti', 'french toast', 'gingerbread']\n",
      "['danish', 'cake', 'gelato', 'pecan pie', 'brownie', 'muffin', 'macaroon', 'pie', 'cheesecake', 'biscotti', 'french toast', 'gingerbread']\n"
     ]
    }
   ],
   "source": [
    "desserts_new = desserts.copy()\n",
    "print ('Removing cake again from Python list')\n",
    "desserts_new.pop(1)\n",
    "print(desserts_new)\n",
    "print(desserts)"
   ]
  },
  {
   "cell_type": "markdown",
   "metadata": {},
   "source": [
    "Fourth, we can use `clear()` method to clean our Python list"
   ]
  },
  {
   "cell_type": "code",
   "execution_count": 76,
   "metadata": {},
   "outputs": [
    {
     "name": "stdout",
     "output_type": "stream",
     "text": [
      "Clear list\n",
      "[]\n",
      "['danish', 'cake', 'gelato', 'pecan pie', 'brownie', 'muffin', 'macaroon', 'pie', 'cheesecake', 'biscotti', 'french toast', 'gingerbread']\n"
     ]
    }
   ],
   "source": [
    "desserts_new = desserts.copy()\n",
    "print ('Clear list')\n",
    "desserts_new.clear()\n",
    "print(desserts_new)\n",
    "print(desserts)"
   ]
  },
  {
   "cell_type": "markdown",
   "metadata": {},
   "source": [
    "Finally, we can play with slicers to remove items from the list"
   ]
  },
  {
   "cell_type": "code",
   "execution_count": 77,
   "metadata": {},
   "outputs": [
    {
     "name": "stdout",
     "output_type": "stream",
     "text": [
      "Remove gelato and pecan pie\n",
      "['danish', 'cake', 'brownie', 'muffin', 'macaroon', 'pie', 'cheesecake', 'biscotti', 'french toast', 'gingerbread']\n",
      "['danish', 'cake', 'gelato', 'pecan pie', 'brownie', 'muffin', 'macaroon', 'pie', 'cheesecake', 'biscotti', 'french toast', 'gingerbread']\n"
     ]
    }
   ],
   "source": [
    "desserts_new = desserts.copy()\n",
    "print ('Remove gelato and pecan pie')\n",
    "desserts_new[2:4] = []\n",
    "print(desserts_new)\n",
    "print(desserts)"
   ]
  },
  {
   "cell_type": "markdown",
   "metadata": {},
   "source": [
    "### List Comprehension: Great way to build new Python Lists\n",
    "Comprehension of lists is an easy and descriptive way of creating a new list from an established Python list."
   ]
  },
  {
   "cell_type": "code",
   "execution_count": 78,
   "metadata": {},
   "outputs": [
    {
     "name": "stdout",
     "output_type": "stream",
     "text": [
      "['soup', 'sandwich', 'flatbread', 'granola', 'eggs', 'avocado on toast']\n",
      "['danish', 'cake', 'gelato', 'pecan pie', 'brownie', 'muffin', 'macaroon', 'pie', 'cheesecake', 'biscotti', 'french toast', 'gingerbread']\n"
     ]
    }
   ],
   "source": [
    "print(food)\n",
    "print(desserts)"
   ]
  },
  {
   "cell_type": "markdown",
   "metadata": {},
   "source": [
    "Let's say we would like to create a desserts Python list that only have desserts ending with **e**."
   ]
  },
  {
   "cell_type": "code",
   "execution_count": 79,
   "metadata": {},
   "outputs": [
    {
     "data": {
      "text/plain": [
       "['cake', 'pecan pie', 'brownie', 'pie', 'cheesecake']"
      ]
     },
     "execution_count": 79,
     "metadata": {},
     "output_type": "execute_result"
    }
   ],
   "source": [
    "new_desserts = [ x for i, x in enumerate(desserts) if desserts[i][-1] == 'e']\n",
    "new_desserts"
   ]
  },
  {
   "cell_type": "markdown",
   "metadata": {},
   "source": [
    "Let's understand what just happen above. \n",
    "<br><br>\n",
    "1. First, I have introducted a new function `enumerate()`, this method adds a counter to an iterable and returns it in a form of enumerate object. Effectively, we count each list item and can tap into that number in the function.\n",
    "2. We are looking for **x** with a particular condition in desserts list.\n",
    "3. We introducte `for` and `if` statements, which will go through the list `for` and look for condition `if`.\n",
    "4. In order to go through the list we need to tell python where in the list item **x** is and which part of **x** i.e. dessert we need to test against **e**). We do that by asigning a number to desserts `enumerate()`. Then we tap into that number with letter `i` (could be any letter instead of i). Then we are looking into the dessert list using letter i, which now represent index. When we have a word we count the first letter form the end with **-1**.\n",
    "5. Finally, we compare the last letter with `if` to **e**.\n",
    "<br><br>\n",
    "Below shows the same but print all one by one. We will look into for loops and if statement down the line. If you do not get it yet. We will explain it in the future."
   ]
  },
  {
   "cell_type": "code",
   "execution_count": 80,
   "metadata": {},
   "outputs": [
    {
     "name": "stdout",
     "output_type": "stream",
     "text": [
      "cake\n",
      "pecan pie\n",
      "brownie\n",
      "pie\n",
      "cheesecake\n"
     ]
    }
   ],
   "source": [
    "for i, x in enumerate(desserts): \n",
    "    if desserts[i][-1] == 'e':\n",
    "        print(x)"
   ]
  },
  {
   "cell_type": "markdown",
   "metadata": {},
   "source": [
    "### 4.2 Python Dictionarties\n",
    "A dictionary is a set of pairs of key-value. We construct a dictionary through supplying the key-value pairs inside curly brackets `{}`. For instance, let's say we have started to offer delivery service over the phone. To understand better person on the phone we need to give our menu items reference number. With Dictionaries we can do that. We can give a ref number for each dessert item on the menu. And when somebody gives us a call and says a number we can just punch in the number and item will be booked in for a delivery."
   ]
  },
  {
   "cell_type": "code",
   "execution_count": 81,
   "metadata": {},
   "outputs": [],
   "source": [
    "desserts_d = {'R001': 'danish', 'R002':'cake', 'R003':'gelato', 'R004':'pecan pie', 'R005':'brownie', 'R006':'muffin', 'R007':'macaroon'\n",
    "              , 'R008':'pie', 'R009':'cheesecake', 'R010':'biscotti', 'R011':'french toast', 'R012':'gingerbread'}"
   ]
  },
  {
   "cell_type": "markdown",
   "metadata": {},
   "source": [
    "Now somebody gives a call and says \"I want cake\"."
   ]
  },
  {
   "cell_type": "code",
   "execution_count": 82,
   "metadata": {},
   "outputs": [
    {
     "data": {
      "text/plain": [
       "'cake'"
      ]
     },
     "execution_count": 82,
     "metadata": {},
     "output_type": "execute_result"
    }
   ],
   "source": [
    "desserts_d['R002'] #You access value by using the key. which in this case is 'R002'"
   ]
  },
  {
   "attachments": {
    "image.png": {
     "image/png": "[encoded data removed]"
    }
   },
   "cell_type": "markdown",
   "metadata": {},
   "source": [
    "#### Desserts Python Dictionary in a Picture Example:\n",
    "\n",
    "![image.png](attachment:image.png)"
   ]
  },
  {
   "cell_type": "markdown",
   "metadata": {},
   "source": [
    "Let's say we would like to add 13th item in the Python Dictionary"
   ]
  },
  {
   "cell_type": "code",
   "execution_count": 83,
   "metadata": {},
   "outputs": [
    {
     "name": "stdout",
     "output_type": "stream",
     "text": [
      "{'R001': 'danish', 'R002': 'cake', 'R003': 'gelato', 'R004': 'pecan pie', 'R005': 'brownie', 'R006': 'muffin', 'R007': 'macaroon', 'R008': 'pie', 'R009': 'cheesecake', 'R010': 'biscotti', 'R011': 'french toast', 'R012': 'gingerbread', 'R013': 'fudge'}\n"
     ]
    }
   ],
   "source": [
    "desserts_d['R013'] = 'fudge'\n",
    "print(desserts_d)"
   ]
  },
  {
   "cell_type": "markdown",
   "metadata": {},
   "source": [
    "We can also store mixture of Python lists and dictionaries in a new Python dictionary"
   ]
  },
  {
   "cell_type": "code",
   "execution_count": 84,
   "metadata": {},
   "outputs": [
    {
     "name": "stdout",
     "output_type": "stream",
     "text": [
      "['soup', 'sandwich', 'flatbread', 'granola', 'eggs', 'avocado on toast']\n",
      "['danish', 'cake', 'gelato', 'pecan pie', 'brownie', 'muffin', 'macaroon', 'pie', 'cheesecake', 'biscotti', 'french toast', 'gingerbread']\n"
     ]
    }
   ],
   "source": [
    "print(food)\n",
    "print(desserts)"
   ]
  },
  {
   "cell_type": "code",
   "execution_count": 85,
   "metadata": {},
   "outputs": [
    {
     "name": "stdout",
     "output_type": "stream",
     "text": [
      "{'food': ['soup', 'sandwich', 'flatbread', 'granola', 'eggs', 'avocado on toast'], 'desserts': ['danish', 'cake', 'gelato', 'pecan pie', 'brownie', 'muffin', 'macaroon', 'pie', 'cheesecake', 'biscotti', 'french toast', 'gingerbread'], 'desserts_d': {'R001': 'danish', 'R002': 'cake', 'R003': 'gelato', 'R004': 'pecan pie', 'R005': 'brownie', 'R006': 'muffin', 'R007': 'macaroon', 'R008': 'pie', 'R009': 'cheesecake', 'R010': 'biscotti', 'R011': 'french toast', 'R012': 'gingerbread', 'R013': 'fudge'}}\n"
     ]
    }
   ],
   "source": [
    "desserts_d1 = {'food':food, 'desserts':desserts, 'desserts_d':desserts_d}\n",
    "print(desserts_d1)"
   ]
  },
  {
   "cell_type": "markdown",
   "metadata": {},
   "source": [
    "### 4.3 Tuples\n",
    "A Python Tuple is an infinite list: we can not change or substitute the elements of a tuple, or remove items from it. We generally create a tuple by placing the elements in parentheses `()`. Lets create our small vertion of our desserts list as tuple."
   ]
  },
  {
   "cell_type": "code",
   "execution_count": 86,
   "metadata": {},
   "outputs": [
    {
     "name": "stdout",
     "output_type": "stream",
     "text": [
      "('danish', 'cake', 'gelato', 'pecan pie', 'brownie', 'muffin')\n"
     ]
    }
   ],
   "source": [
    "desserts_s = ('danish', 'cake', 'gelato', 'pecan pie', 'brownie', 'muffin')\n",
    "print(desserts_s)"
   ]
  },
  {
   "cell_type": "markdown",
   "metadata": {},
   "source": [
    "You can also create tuple without parentheses, but code become less readible"
   ]
  },
  {
   "cell_type": "code",
   "execution_count": 87,
   "metadata": {},
   "outputs": [
    {
     "name": "stdout",
     "output_type": "stream",
     "text": [
      "('danish', 'cake', 'gelato', 'pecan pie', 'brownie', 'muffin', 'macaroon')\n"
     ]
    }
   ],
   "source": [
    "desserts_s = 'danish', 'cake', 'gelato', 'pecan pie', 'brownie', 'muffin', 'macaroon'\n",
    "print(desserts_s)"
   ]
  },
  {
   "cell_type": "markdown",
   "metadata": {},
   "source": [
    "#### So why do you need python tuples?\n",
    "Tuple have slightly different methods to unpack values and access them. See example below.\n",
    "<br><br>\n",
    "**Note**: That same methods as we have seen in Python lists also apply like slicing or indexing."
   ]
  },
  {
   "cell_type": "code",
   "execution_count": 88,
   "metadata": {},
   "outputs": [
    {
     "name": "stdout",
     "output_type": "stream",
     "text": [
      "('danish', 'cake', 'gelato', 'pecan pie', 'brownie', 'muffin', 'macaroon')\n",
      "cake\n",
      "gelato\n"
     ]
    }
   ],
   "source": [
    "print(desserts_s)\n",
    "a,b,c,d,e,f,h = desserts_s\n",
    "print(b)\n",
    "print(c)"
   ]
  },
  {
   "cell_type": "code",
   "execution_count": 89,
   "metadata": {},
   "outputs": [
    {
     "name": "stdout",
     "output_type": "stream",
     "text": [
      "['danish', 'cake', 'gelato', 'pecan pie', 'brownie', 'muffin', 'macaroon', 'biscotti']\n"
     ]
    }
   ],
   "source": [
    "print([*desserts_s, 'biscotti'])"
   ]
  },
  {
   "cell_type": "markdown",
   "metadata": {},
   "source": [
    "## 5. For Loops\n",
    "We have seen `for` loop in a more complicated Python `list` example above. Here we will go into more detail and look into several other examples. Offten in conding we need to traverse a list to look into each item seperately. For that We use `for` loops. Let's take our desserts `list` and have a look."
   ]
  },
  {
   "cell_type": "code",
   "execution_count": 90,
   "metadata": {},
   "outputs": [
    {
     "name": "stdout",
     "output_type": "stream",
     "text": [
      "['danish', 'cake', 'gelato', 'pecan pie', 'brownie', 'muffin', 'macaroon', 'pie', 'cheesecake', 'biscotti', 'french toast', 'gingerbread']\n"
     ]
    }
   ],
   "source": [
    "print(desserts)"
   ]
  },
  {
   "cell_type": "markdown",
   "metadata": {},
   "source": [
    "First of all, let's print desserts one by one."
   ]
  },
  {
   "cell_type": "code",
   "execution_count": 91,
   "metadata": {},
   "outputs": [
    {
     "name": "stdout",
     "output_type": "stream",
     "text": [
      "danish\n",
      "cake\n",
      "gelato\n",
      "pecan pie\n",
      "brownie\n",
      "muffin\n",
      "macaroon\n",
      "pie\n",
      "cheesecake\n",
      "biscotti\n",
      "french toast\n",
      "gingerbread\n"
     ]
    }
   ],
   "source": [
    "for dessert in desserts:\n",
    "    print(dessert)"
   ]
  },
  {
   "cell_type": "markdown",
   "metadata": {},
   "source": [
    "This syntax includes two important details to remember. Instead of **dessert** the `for` loop would work with any alias as long as we consistently use it. We say, however, that selecting a meaningful alias makes the code more Pythonic (clean and legible)."
   ]
  },
  {
   "cell_type": "markdown",
   "metadata": {},
   "source": [
    "Below we have one more example. `for` loop will repeat the code you add in the indented part of the block. Below I am adding 'x2'. Say we want to print this text and give this to the kitchen to prepare home delivery and we indicate that we want to have each item twice."
   ]
  },
  {
   "cell_type": "code",
   "execution_count": 95,
   "metadata": {},
   "outputs": [
    {
     "name": "stdout",
     "output_type": "stream",
     "text": [
      "danish x2\n",
      "cake x2\n",
      "gelato x2\n",
      "pecan pie x2\n",
      "brownie x2\n",
      "muffin x2\n",
      "macaroon x2\n",
      "pie x2\n",
      "cheesecake x2\n",
      "biscotti x2\n",
      "french toast x2\n",
      "gingerbread x2\n",
      "Delivery Address: xxx\n"
     ]
    }
   ],
   "source": [
    "for dessert in desserts:\n",
    "    x = dessert + ' x2'\n",
    "    print(x)\n",
    "    \n",
    "print('Delivery Address: xxx')"
   ]
  },
  {
   "cell_type": "markdown",
   "metadata": {},
   "source": [
    "Quite often we use object `range()`, which effectively provides a numerical range. In below example, we are going up to 2. The `range()` start with **0**"
   ]
  },
  {
   "cell_type": "code",
   "execution_count": 98,
   "metadata": {},
   "outputs": [
    {
     "name": "stdout",
     "output_type": "stream",
     "text": [
      "0\n",
      "1\n",
      "2\n",
      "range(0, 3)\n"
     ]
    }
   ],
   "source": [
    "for i in range(3):\n",
    "    print(i)\n",
    "    \n",
    "print(range(3))"
   ]
  },
  {
   "cell_type": "markdown",
   "metadata": {},
   "source": [
    "We can also specify starting point 1, end point 11 and step size 2"
   ]
  },
  {
   "cell_type": "code",
   "execution_count": 100,
   "metadata": {},
   "outputs": [
    {
     "name": "stdout",
     "output_type": "stream",
     "text": [
      "1\n",
      "3\n",
      "5\n",
      "7\n",
      "9\n"
     ]
    }
   ],
   "source": [
    "for i in range(1, 11, 2):\n",
    "    print(i)"
   ]
  },
  {
   "cell_type": "code",
   "execution_count": null,
   "metadata": {},
   "outputs": [],
   "source": []
  }
 ],
 "metadata": {
  "kernelspec": {
   "display_name": "Python 3",
   "language": "python",
   "name": "python3"
  },
  "language_info": {
   "codemirror_mode": {
    "name": "ipython",
    "version": 3
   },
   "file_extension": ".py",
   "mimetype": "text/x-python",
   "name": "python",
   "nbconvert_exporter": "python",
   "pygments_lexer": "ipython3",
   "version": "3.7.6"
  }
 },
 "nbformat": 4,
 "nbformat_minor": 2
}
